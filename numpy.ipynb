{
 "cells": [
  {
   "cell_type": "code",
   "execution_count": 95,
   "id": "e8f40824-26a9-414d-9146-d620ebccc02f",
   "metadata": {},
   "outputs": [
    {
     "name": "stdout",
     "output_type": "stream",
     "text": [
      "[3 2 5]\n"
     ]
    }
   ],
   "source": [
    "import numpy as np\n",
    "list=(3,2,5)\n",
    "array1=np.array(list)\n",
    "print(array1)"
   ]
  },
  {
   "cell_type": "code",
   "execution_count": 6,
   "id": "fc5ba4bc-6b10-4283-81ce-60031cc6a375",
   "metadata": {},
   "outputs": [
    {
     "name": "stdout",
     "output_type": "stream",
     "text": [
      "[[1 2 3]\n",
      " [4 5 6]\n",
      " [7 8 9]]\n"
     ]
    }
   ],
   "source": [
    "list_m = [ [1, 2, 3], [4, 5, 6], [7, 8, 9] ]\n",
    "arr_m = np.array(list_m,dtype=np.int16)\n",
    "print(arr_m)"
   ]
  },
  {
   "cell_type": "code",
   "execution_count": 7,
   "id": "637b2962-29a7-4e64-997f-e09b1d12ed56",
   "metadata": {},
   "outputs": [
    {
     "name": "stdout",
     "output_type": "stream",
     "text": [
      "[[0. 0.]\n",
      " [0. 0.]]\n"
     ]
    }
   ],
   "source": [
    "arr_0 = np.zeros((2,2))  \n",
    "print(arr_0)"
   ]
  },
  {
   "cell_type": "code",
   "execution_count": 8,
   "id": "f8ddfe1a-14d0-4497-9ff2-8918165e67c6",
   "metadata": {},
   "outputs": [
    {
     "name": "stdout",
     "output_type": "stream",
     "text": [
      "[[1. 1.]]\n"
     ]
    }
   ],
   "source": [
    "arr_1= np.ones((1,2))    \n",
    "print(arr_1)"
   ]
  },
  {
   "cell_type": "code",
   "execution_count": 9,
   "id": "abcde8ab-ec7a-42ff-a7cf-b842b8198e40",
   "metadata": {},
   "outputs": [
    {
     "name": "stdout",
     "output_type": "stream",
     "text": [
      "[[7 7]\n",
      " [7 7]]\n"
     ]
    }
   ],
   "source": [
    "arr_c = np.full((2,2), 7) \n",
    "print(arr_c)"
   ]
  },
  {
   "cell_type": "code",
   "execution_count": 10,
   "id": "396091cb-b6d9-4706-8d0a-3b0690621aac",
   "metadata": {},
   "outputs": [
    {
     "name": "stdout",
     "output_type": "stream",
     "text": [
      "[1 2 3 4 5 6 7 8 9]\n"
     ]
    }
   ],
   "source": [
    "arr_a=np.arange(1, 10,1)\n",
    "print(arr_a)"
   ]
  },
  {
   "cell_type": "code",
   "execution_count": 13,
   "id": "e3f83a41-2efe-442f-a64f-0fd27a19864f",
   "metadata": {},
   "outputs": [
    {
     "name": "stdout",
     "output_type": "stream",
     "text": [
      "[[0.46030053 0.79293041 0.75627525]\n",
      " [0.25496422 0.41933796 0.01976199]]\n"
     ]
    }
   ],
   "source": [
    "arr_r = np.random.random((2,3))  \n",
    "print(arr_r)"
   ]
  },
  {
   "cell_type": "code",
   "execution_count": 16,
   "id": "74bde5ef-3cd7-49fc-8cdd-0e9e05fa93a6",
   "metadata": {},
   "outputs": [
    {
     "name": "stdout",
     "output_type": "stream",
     "text": [
      "[ 839 1170 1471  736 1397  210 1601  732]\n"
     ]
    }
   ],
   "source": [
    "arr_1= np.random.randint(10,1620,8)  \n",
    "print(arr_1)"
   ]
  },
  {
   "cell_type": "code",
   "execution_count": 18,
   "id": "4f445e03-c427-4be8-8de4-9fee1b6d4780",
   "metadata": {},
   "outputs": [
    {
     "name": "stdout",
     "output_type": "stream",
     "text": [
      "[[1. 0. 0. 0. 0.]\n",
      " [0. 1. 0. 0. 0.]\n",
      " [0. 0. 1. 0. 0.]\n",
      " [0. 0. 0. 1. 0.]\n",
      " [0. 0. 0. 0. 1.]]\n"
     ]
    }
   ],
   "source": [
    "arr_I = np.eye(5)\n",
    "print(arr_I)"
   ]
  },
  {
   "cell_type": "code",
   "execution_count": 22,
   "id": "b8f7cd9d-2abb-4c36-846f-3f3200b6a1b7",
   "metadata": {},
   "outputs": [
    {
     "name": "stdout",
     "output_type": "stream",
     "text": [
      "[[1 2 3]\n",
      " [4 5 6]]\n"
     ]
    }
   ],
   "source": [
    "import numpy as np\n",
    "x_2 = ([(1,2,3),(4,5,6)])\n",
    "a_2 = np.asarray(x_2) \n",
    "print (a_2)"
   ]
  },
  {
   "cell_type": "code",
   "execution_count": 23,
   "id": "16c068be-5b7d-4f2b-a1d6-49a698fadf09",
   "metadata": {},
   "outputs": [
    {
     "name": "stdout",
     "output_type": "stream",
     "text": [
      "[[1 2]\n",
      " [3 4]\n",
      " [5 6]]\n"
     ]
    }
   ],
   "source": [
    "a = np.array([[1,2,3],[4,5,6]]) \n",
    "b = a.reshape(3,2) \n",
    "print (b)"
   ]
  },
  {
   "cell_type": "code",
   "execution_count": 24,
   "id": "4266ee36-de38-44c4-b086-461e4ce2f186",
   "metadata": {},
   "outputs": [
    {
     "data": {
      "text/plain": [
       "4"
      ]
     },
     "execution_count": 24,
     "metadata": {},
     "output_type": "execute_result"
    }
   ],
   "source": [
    "import numpy as np \n",
    "a = np.array([[1,2,3],[4,5,6]]) \n",
    "a.itemsize"
   ]
  },
  {
   "cell_type": "code",
   "execution_count": 28,
   "id": "859ac675-4920-423f-aabd-1f68e20e4c9a",
   "metadata": {},
   "outputs": [
    {
     "name": "stdout",
     "output_type": "stream",
     "text": [
      "[[1 2 3]\n",
      " [4 5 6]]\n",
      "int32\n"
     ]
    }
   ],
   "source": [
    "import numpy as np \n",
    "arr = np.array([[1,2,3],[4,5,6]]) \n",
    "print (arr)\n",
    "type(arr)\n",
    "\n",
    "print(arr.dtype)"
   ]
  },
  {
   "cell_type": "code",
   "execution_count": 29,
   "id": "f50f06b2-7299-4b71-a0ed-0f22f7489599",
   "metadata": {},
   "outputs": [
    {
     "data": {
      "text/plain": [
       "24"
      ]
     },
     "execution_count": 29,
     "metadata": {},
     "output_type": "execute_result"
    }
   ],
   "source": [
    "import numpy as np \n",
    "a = np.array([[1,2,3],[4,5,6]]) \n",
    "a.nbytes"
   ]
  },
  {
   "cell_type": "code",
   "execution_count": 30,
   "id": "910cbc03-103e-4ddd-ae04-44f9f476766f",
   "metadata": {},
   "outputs": [
    {
     "name": "stdout",
     "output_type": "stream",
     "text": [
      "[0 1 2 3 4 5 6 7 8 9]\n",
      "7\n",
      "[0 1 2 3 4]\n",
      "[0 1 2 3 4 5]\n",
      "[6 7 8]\n"
     ]
    }
   ],
   "source": [
    "import numpy as np\n",
    "arr = np.arange(10)\n",
    "print(arr)\n",
    "print(arr[-3])\n",
    "print(arr[0:5])\n",
    "print(arr[0:-4])\n",
    "print(arr[-4:-1])"
   ]
  },
  {
   "cell_type": "code",
   "execution_count": 34,
   "id": "848c6fc6-d6aa-402d-a921-270e846b0279",
   "metadata": {},
   "outputs": [
    {
     "name": "stdout",
     "output_type": "stream",
     "text": [
      "7\n",
      "[2 3 4]\n",
      "[2 4 6]\n"
     ]
    }
   ],
   "source": [
    "import numpy as np \n",
    "arr = np.arange(10)\n",
    "slice_arr = arr[7] \n",
    "print (slice_arr)\n",
    "print (arr[-8:-5])\n",
    "slice_arr = arr[2:7:2] \n",
    "print (slice_arr)"
   ]
  },
  {
   "cell_type": "code",
   "execution_count": 35,
   "id": "7cd24775-ef6c-499c-96c9-8870734ad1b3",
   "metadata": {},
   "outputs": [
    {
     "name": "stdout",
     "output_type": "stream",
     "text": [
      "[11 14 15]\n"
     ]
    }
   ],
   "source": [
    "x= np.array([11,12,13,14,15])\n",
    "print(np.take(x, [0, 3,4]))"
   ]
  },
  {
   "cell_type": "code",
   "execution_count": 37,
   "id": "d3993895-120d-4407-8564-c7dfd577e514",
   "metadata": {},
   "outputs": [
    {
     "name": "stdout",
     "output_type": "stream",
     "text": [
      "[[1 2 3]\n",
      " [3 4 5]\n",
      " [4 5 6]]\n",
      "[[1 2 3]]\n",
      "[[3 4 5]\n",
      " [4 5 6]]\n",
      "[[1]\n",
      " [3]\n",
      " [4]]\n",
      "[[4]]\n"
     ]
    }
   ],
   "source": [
    "import numpy as np \n",
    "arr = np.array([[1,2,3],[3,4,5],[4,5,6]])\n",
    "print (arr)\n",
    "print (arr[0:1])\n",
    "print (arr[1:])\n",
    "print (arr[0:3,0:1])\n",
    "print (arr[1:2,1:2])"
   ]
  },
  {
   "cell_type": "code",
   "execution_count": 40,
   "id": "9ea7884b-d9f2-4b00-b4c6-c586e0571b02",
   "metadata": {},
   "outputs": [
    {
     "name": "stdout",
     "output_type": "stream",
     "text": [
      "[ 3  6  9 12]\n",
      "[-1 -2 -3 -4]\n",
      "[ 2  8 18 32]\n",
      "[0.5 0.5 0.5 0.5]\n"
     ]
    }
   ],
   "source": [
    "import numpy as np\n",
    "arr_3 = np.array([1, 2, 3, 4])\n",
    "arr_4 = np.array([2, 4, 6, 8])\n",
    "print(arr_3 + arr_4)\n",
    "print(arr_3 - arr_4)\n",
    "print(arr_3 * arr_4)\n",
    "print(arr_3 / arr_4)"
   ]
  },
  {
   "cell_type": "code",
   "execution_count": 44,
   "id": "859fbd5f-19e7-4a65-9aba-c14319ef7327",
   "metadata": {},
   "outputs": [
    {
     "name": "stdout",
     "output_type": "stream",
     "text": [
      "[[66 84 57]\n",
      " [17 98 57]]\n",
      "[ 83 182 114]\n"
     ]
    }
   ],
   "source": [
    "arr_6 =np.random.randint(100, size=(2, 3))\n",
    "print(arr_6)\n",
    "c=arr_6.sum(axis=0)\n",
    "print(c)"
   ]
  },
  {
   "cell_type": "code",
   "execution_count": 43,
   "id": "2e62f791-37f3-4fde-b6ee-8fbb901d44db",
   "metadata": {},
   "outputs": [
    {
     "name": "stdout",
     "output_type": "stream",
     "text": [
      "10\n"
     ]
    }
   ],
   "source": [
    "import numpy as np\n",
    "arr_3 = np.array([1, 2, 3, 4])\n",
    "a=arr_3.sum()\n",
    "print(a)"
   ]
  },
  {
   "cell_type": "code",
   "execution_count": 46,
   "id": "c17bc19d-8b4f-44f0-9931-faad61c56159",
   "metadata": {},
   "outputs": [
    {
     "name": "stdout",
     "output_type": "stream",
     "text": [
      "Min long row: [50 26]\n",
      "Min along column: [62 26 42]\n",
      "Max along row: [96 87]\n",
      "Max along column: [87 96 50]\n",
      "Absolute :  [1 2]\n"
     ]
    }
   ],
   "source": [
    "arr=np.array([[62, 96, 50],[87, 26, 42]])\n",
    "print(\"Min long row:\", arr.min(axis=1))\n",
    "print(\"Min along column:\", arr.min(axis=0))\n",
    "print(\"Max along row:\", arr.max(axis=1))\n",
    "print(\"Max along column:\", arr.max(axis=0))\n",
    "print(\"Absolute : \", np.absolute([-1, -2]))\n"
   ]
  },
  {
   "cell_type": "code",
   "execution_count": 48,
   "id": "9d6db503-a6a9-42d3-8d66-2bd37c0a4dd9",
   "metadata": {},
   "outputs": [
    {
     "name": "stdout",
     "output_type": "stream",
     "text": [
      "[[     1     16]\n",
      " [   729 262144]]\n"
     ]
    }
   ],
   "source": [
    "arr_5 = np.array([[1, 2], [3, 4]])\n",
    "arr_6 = np.array([[2, 4], [6, 9]])\n",
    "print(np.power(arr_5, arr_6))"
   ]
  },
  {
   "cell_type": "code",
   "execution_count": 49,
   "id": "ea748ad9-54ac-41ac-ad52-44c98a70936b",
   "metadata": {},
   "outputs": [
    {
     "name": "stdout",
     "output_type": "stream",
     "text": [
      "Sqrt : [1.         1.41421356 1.73205081 2.        ]\n",
      "Cube root:  [1.         1.25992105 1.44224957 1.58740105]\n",
      "Exponential [ 2.71828183  7.3890561  20.08553692 54.59815003]\n",
      "Log : [0.         0.69314718 1.09861229 1.38629436]\n"
     ]
    }
   ],
   "source": [
    "arr_3 = np.array([1, 2, 3, 4])\n",
    "print(\"Sqrt :\", np.sqrt(arr_3))\n",
    "print(\"Cube root: \", np.cbrt(arr_3))\n",
    "print(\"Exponential\", np.exp(arr_3))\n",
    "print(\"Log :\", np.log(arr_3))"
   ]
  },
  {
   "cell_type": "code",
   "execution_count": 51,
   "id": "428bfe8c-c873-48b6-88f5-112f8f747aab",
   "metadata": {},
   "outputs": [
    {
     "name": "stdout",
     "output_type": "stream",
     "text": [
      "Greatest common divisor among (9,12,15):  3\n",
      "Least Common Multiple (9,12,15): 180\n",
      "Round down (1.2,2.5): [1. 2.]\n",
      "Round up (1.2,2.5): [2. 3.]\n"
     ]
    }
   ],
   "source": [
    "print(\"Greatest common divisor among (9,12,15): \", np.gcd.reduce([9, 12, 15]))\n",
    "print(\"Least Common Multiple (9,12,15):\", np.lcm.reduce([9, 12, 15]))\n",
    "print(\"Round down (1.2,2.5):\", np.floor([1.2, 2.5]))\n",
    "print(\"Round up (1.2,2.5):\", np.ceil([1.2, 2.5]))"
   ]
  },
  {
   "cell_type": "code",
   "execution_count": 52,
   "id": "585011f9-bdbb-473c-938e-217bea19b2a5",
   "metadata": {},
   "outputs": [
    {
     "name": "stdout",
     "output_type": "stream",
     "text": [
      "1849 \n",
      "\n",
      "[200 153] \n",
      "\n",
      "[[59 18]\n",
      " [15 27]]\n"
     ]
    }
   ],
   "source": [
    "import numpy as np\n",
    "x = np.array([[2, 7], [3, 0]])\n",
    "y = np.array([[5, 9], [7, 0]])\n",
    "v = np.array([51, 14])\n",
    "w = np.array([11, 92])\n",
    "print(np.dot(v, w), \"\\n\")\n",
    "print(np.dot(x, v), \"\\n\")\n",
    "print(np.dot(x, y))"
   ]
  },
  {
   "cell_type": "code",
   "execution_count": 58,
   "id": "0a28daf2-ec4f-47b9-a42d-78035d467dd3",
   "metadata": {},
   "outputs": [
    {
     "name": "stdout",
     "output_type": "stream",
     "text": [
      "Element wise matrix multiplication\n",
      " [[ 5 12]\n",
      " [21 32]]\n"
     ]
    }
   ],
   "source": [
    "import numpy as np\n",
    "arr1 = np.array([[1, 2],\n",
    "                 [3, 4]])\n",
    "arr2 = np.array([[5, 6],\n",
    "                 [7, 8]])\n",
    "arr_result = np.multiply(arr1, arr2)\n",
    "print(\"Element wise matrix multiplication\" \"\\n\", arr_result)"
   ]
  },
  {
   "cell_type": "code",
   "execution_count": 65,
   "id": "7bd20750-6843-4f51-be54-2e384acf89f4",
   "metadata": {},
   "outputs": [
    {
     "name": "stdout",
     "output_type": "stream",
     "text": [
      "Matrix Product of array 1 and array 2 is:\n",
      "[[14 10]\n",
      " [43 26]]\n",
      "Matrix Product of array 2 and array 1 is:\n",
      "[[ 6 18]\n",
      " [15 34]]\n"
     ]
    }
   ],
   "source": [
    "import numpy as np\n",
    "arr1 = np.array([[0, 2],[3, 4]])\n",
    "arr2 = np.array([[5, 2],[7, 5]])\n",
    "arr_result1 = np.matmul(arr1, arr2)\n",
    "print(f'Matrix Product of array 1 and array 2 is:\\n{arr_result1}')\n",
    "arr_result2 = np.matmul(arr2, arr1)\n",
    "print(f'Matrix Product of array 2 and array 1 is:\\n{arr_result2}')"
   ]
  },
  {
   "cell_type": "code",
   "execution_count": 69,
   "id": "f40c78a1-1737-415e-ae09-8367028b8d68",
   "metadata": {},
   "outputs": [
    {
     "name": "stdout",
     "output_type": "stream",
     "text": [
      "Dot Product of arr1 and arr2 is:\n",
      "[[19 25]\n",
      " [35 40]]\n",
      "Dot Product of arr2 and arr1 is:\n",
      "[[ 5 55]\n",
      " [ 7 54]]\n",
      "Dot Product of two 1-D arrays is:\n",
      "17\n"
     ]
    }
   ],
   "source": [
    "import numpy as np\n",
    "arr1 = np.array([[1, 2],[0, 5]])\n",
    "arr2 = np.array([[5, 9],[7, 8]])\n",
    "arr_result1 = np.dot(arr1, arr2)\n",
    "print(f'Dot Product of arr1 and arr2 is:\\n{arr_result1}')\n",
    "arr_result2 = np.dot(arr2, arr1)\n",
    "print(f'Dot Product of arr2 and arr1 is:\\n{arr_result2}')\n",
    "arr_result3 = np.dot([1, 2], [5, 6])\n",
    "print(f'Dot Product of two 1-D arrays is:\\n{arr_result3}')"
   ]
  },
  {
   "cell_type": "code",
   "execution_count": 75,
   "id": "d2a18b04-3168-48e5-9b47-9087702beacb",
   "metadata": {},
   "outputs": [
    {
     "name": "stdout",
     "output_type": "stream",
     "text": [
      "B\n",
      " (array([2.  , 2.25, 2.5 , 2.75, 3.  ]), 0.25) \n",
      "\n",
      "A\n",
      " [0.         0.3271947  0.6183698  0.84147098 0.9719379  0.99540796\n",
      " 0.90929743]\n"
     ]
    }
   ],
   "source": [
    "import numpy as ls\n",
    "print(\"B\\n\", ls.linspace(2.0, 3.0, num=5, retstep=True), \"\\n\")\n",
    "x = ls.linspace(0, 2, 7)\n",
    "print(\"A\\n\", ls.sin(x))"
   ]
  },
  {
   "cell_type": "code",
   "execution_count": 76,
   "id": "2a5d3975-48b7-4571-9a3b-b7b0425369df",
   "metadata": {},
   "outputs": [
    {
     "data": {
      "text/plain": [
       "(-0.2, 1.8)"
      ]
     },
     "execution_count": 76,
     "metadata": {},
     "output_type": "execute_result"
    },
    {
     "data": {
      "image/png": "[encoded data removed]",
      "text/plain": [
       "<Figure size 640x480 with 1 Axes>"
      ]
     },
     "metadata": {},
     "output_type": "display_data"
    }
   ],
   "source": [
    "import numpy as ls\n",
    "import pylab as p\n",
    "x1 = ls.linspace(0, 2, 10, endpoint = False)\n",
    "y1 = ls.ones(10) \n",
    "p.plot(x1, y1, '*')\n",
    "p.xlim(-0.2, 1.8)"
   ]
  },
  {
   "cell_type": "code",
   "execution_count": 78,
   "id": "c6e8ad42-0c8c-481b-b30e-bfde58016ac7",
   "metadata": {},
   "outputs": [
    {
     "data": {
      "text/plain": [
       "(-0.2, 2.1)"
      ]
     },
     "execution_count": 78,
     "metadata": {},
     "output_type": "execute_result"
    },
    {
     "data": {
      "image/png": "[encoded data removed]",
      "text/plain": [
       "<Figure size 640x480 with 1 Axes>"
      ]
     },
     "metadata": {},
     "output_type": "display_data"
    }
   ],
   "source": [
    "import numpy as ls\n",
    "import pylab as p\n",
    "x1 = ls.linspace(0, 2, 15, endpoint = True)\n",
    "y1 = ls.zeros(15)\n",
    "p.plot(x1, y1, 'o')\n",
    "p.xlim(-0.2, 2.1)"
   ]
  },
  {
   "cell_type": "code",
   "execution_count": 83,
   "id": "303a3c80-8b99-42cd-a25c-bbc289cd2747",
   "metadata": {},
   "outputs": [
    {
     "data": {
      "image/png": "[encoded data removed]",
      "text/plain": [
       "<Figure size 640x480 with 1 Axes>"
      ]
     },
     "metadata": {},
     "output_type": "display_data"
    }
   ],
   "source": [
    "import numpy as np\n",
    "import matplotlib.pyplot as plt\n",
    "t_arr = np.linspace(-2*np.pi, 2*np.pi, 200)\n",
    "fig = plt.figure()\n",
    "ax = plt.axes()\n",
    "ax.grid(color='black', linestyle='-', linewidth=2,alpha=0.1)\n",
    "plt.plot(t_arr, np.sin(t_arr),color='black')\n",
    "plt.title(\"sin(x)\")\n",
    "plt.show()"
   ]
  },
  {
   "cell_type": "code",
   "execution_count": 94,
   "id": "47fb69d5-d57a-4780-a723-6979458c3cfc",
   "metadata": {},
   "outputs": [
    {
     "data": {
      "image/png": "[encoded data removed]",
      "text/plain": [
       "<Figure size 640x480 with 1 Axes>"
      ]
     },
     "metadata": {},
     "output_type": "display_data"
    }
   ],
   "source": [
    "import numpy as np\n",
    "import matplotlib.pyplot as plt\n",
    "t_arr = np.linspace(-2*np.pi, 2*np.pi, 200)\n",
    "fig = plt.figure()\n",
    "ax = plt.axes()\n",
    "ax.grid(color='black', linestyle='-', linewidth=2,alpha=0.1)\n",
    "plt.plot(t_arr, np.sin(4*t_arr),color='black')\n",
    "plt.title(\"sin(4x)\")\n",
    "plt.show()"
   ]
  },
  {
   "cell_type": "code",
   "execution_count": 86,
   "id": "2f6b8523-cd76-45fb-a86d-947aaff4c73e",
   "metadata": {},
   "outputs": [
    {
     "name": "stdout",
     "output_type": "stream",
     "text": [
      "[1 2 3 4 5]\n",
      "Mean: 3.0\n",
      "Median: 3.0\n",
      "Average: 3.0\n",
      "Standard Deviation : 1.4142135623730951\n",
      "Variance: 2.0\n"
     ]
    }
   ],
   "source": [
    "arr_1 = np.arange(1, 6)\n",
    "print(arr_1)\n",
    "print(\"Mean:\", np.mean(arr_1))\n",
    "print(\"Median:\", np.median(arr_1))\n",
    "print(\"Average:\", np.average(arr_1))\n",
    "print(\"Standard Deviation :\", np.std([4, 6, 3, 5, 2]))\n",
    "print(\"Variance:\", np.var([4, 6, 3, 5, 2]))"
   ]
  },
  {
   "cell_type": "code",
   "execution_count": 87,
   "id": "2587fb6b-bf72-497b-a259-74095d90650b",
   "metadata": {},
   "outputs": [
    {
     "name": "stdout",
     "output_type": "stream",
     "text": [
      "Addition:  [ 7 13]\n",
      "Subtraction:  [3 1]\n"
     ]
    }
   ],
   "source": [
    "v1 = np.array([ 2 ,6 ])\n",
    "v2 = np.array([ 5 ,7 ])\n",
    "v3 = v1+v2\n",
    "print(\"Addition: \", v3)\n",
    "v4 = v2-v1\n",
    "print(\"Subtraction: \", v4)"
   ]
  },
  {
   "cell_type": "code",
   "execution_count": 90,
   "id": "ba6829c8-6c56-4d9b-83f6-1449f548a589",
   "metadata": {},
   "outputs": [
    {
     "name": "stdin",
     "output_type": "stream",
     "text": [
      "Enter the variable for the Vector \n",
      " [1,9]:  4\n"
     ]
    },
    {
     "name": "stdout",
     "output_type": "stream",
     "text": [
      "Vector scalar product:  [ 4 36]\n"
     ]
    }
   ],
   "source": [
    "v1 = np.array([1,9]) \n",
    "c= int(input(\"Enter the variable for the Vector \\n [1,9]: \"))\n",
    "v2= c*v1\n",
    "print(\"Vector scalar product: \", v2)"
   ]
  },
  {
   "cell_type": "code",
   "execution_count": 93,
   "id": "da4156ee-95c0-44af-8f27-8b86b171e85a",
   "metadata": {},
   "outputs": [
    {
     "name": "stdout",
     "output_type": "stream",
     "text": [
      "Dot Product: 37\n"
     ]
    }
   ],
   "source": [
    "v1 = np.array([ 4 ,3 ,9 ])\n",
    "v2 = np.array([ 1 ,2 ,3 ])\n",
    "D_P= np.matmul( v1,v2 )\n",
    "print(\"Dot Product:\", D_P)"
   ]
  },
  {
   "cell_type": "code",
   "execution_count": 7,
   "id": "21f38331",
   "metadata": {},
   "outputs": [
    {
     "name": "stdout",
     "output_type": "stream",
     "text": [
      "42\n",
      "<class 'numpy.ndarray'>\n",
      "[[1 1 1 1 1 1 1 1 1]]\n"
     ]
    }
   ],
   "source": [
    "import numpy as np\n",
    "arr=np.array(42)\n",
    "print(arr)\n",
    "print(type(arr))\n",
    "arr_1=np.ones((1,9),dtype=np.int16)\n",
    "print(arr_1)\n",
    "arr_0=np.zeros((2,5),dtype=np.int16)"
   ]
  },
  {
   "cell_type": "code",
   "execution_count": 42,
   "id": "53749aba",
   "metadata": {},
   "outputs": [
    {
     "name": "stdout",
     "output_type": "stream",
     "text": [
      "42\n",
      "<class 'numpy.ndarray'>\n",
      "[[1 1 1 1 1 1 1 1 1]]\n",
      "[[0 0 0 0 0]\n",
      " [0 0 0 0 0]]\n",
      "[[9 9]\n",
      " [9 9]]\n",
      "[[1. 0. 0.]\n",
      " [0. 1. 0.]\n",
      " [0. 0. 1.]]\n"
     ]
    }
   ],
   "source": [
    "import numpy as np\n",
    "arr=np.array(42)\n",
    "print(arr)\n",
    "print(type(arr))\n",
    "arr_1=np.ones((1,9),dtype=np.int16)\n",
    "print(arr_1)\n",
    "arr_0=np.zeros((2,5),dtype=np.int16)\n",
    "print(arr_0)\n",
    "arr_c=np.full((2,2),9)\n",
    "print(arr_c)\n",
    "arr_I=np.eye(3)\n",
    "print(arr_I)"
   ]
  },
  {
   "cell_type": "code",
   "execution_count": 41,
   "id": "1b9de1aa",
   "metadata": {},
   "outputs": [
    {
     "name": "stdout",
     "output_type": "stream",
     "text": [
      "[1 2 3 4]\n",
      "<class 'numpy.ndarray'>\n",
      "[ 2  3  4  5  6  7  8  9 10]\n",
      "[[0.35018018 0.20465303]\n",
      " [0.29620651 0.68544911]\n",
      " [0.62178829 0.0319523 ]]\n",
      "[ 0 59  6]\n"
     ]
    }
   ],
   "source": [
    "import numpy as np\n",
    "arr=np.array([1,2,3,4])\n",
    "print(arr)\n",
    "print(type(arr))\n",
    "arr_a=np.arange(2,11,1)\n",
    "print(arr_a)\n",
    "arr_r=np.random.random((3,2))\n",
    "print(arr_r)\n",
    "arr_ri=np.random.randint((10,100,7))\n",
    "print(arr_ri)"
   ]
  },
  {
   "cell_type": "code",
   "execution_count": 46,
   "id": "c16692f2",
   "metadata": {},
   "outputs": [
    {
     "name": "stdout",
     "output_type": "stream",
     "text": [
      "[1 2 3]\n"
     ]
    }
   ],
   "source": [
    "import numpy as np\n",
    "x_1=(1,2,3)\n",
    "a_1=np.asarray(x_1)\n",
    "print(a_1)"
   ]
  },
  {
   "cell_type": "code",
   "execution_count": 2,
   "id": "61b4cf36",
   "metadata": {},
   "outputs": [
    {
     "name": "stdout",
     "output_type": "stream",
     "text": [
      "[[1 2 3 4 5 6 7]]\n"
     ]
    }
   ],
   "source": [
    "import numpy as np\n",
    "x_1=(1,2,3,4,5,6,7)\n",
    "a_1=np.asarray(x_1)\n",
    "a_1.shape = (1,7)\n",
    "print(a_1)"
   ]
  },
  {
   "cell_type": "code",
   "execution_count": 3,
   "id": "781265c0",
   "metadata": {},
   "outputs": [
    {
     "name": "stdout",
     "output_type": "stream",
     "text": [
      "2 (2, 3) float32\n"
     ]
    }
   ],
   "source": [
    "import numpy as np\n",
    "a = np.array([[1,2,3],[4,5,6]],dtype=np.float32)\n",
    "print (a.ndim, a.shape, a.dtype)"
   ]
  }
 ],
 "metadata": {
  "kernelspec": {
   "display_name": "Python 3 (ipykernel)",
   "language": "python",
   "name": "python3"
  },
  "language_info": {
   "codemirror_mode": {
    "name": "ipython",
    "version": 3
   },
   "file_extension": ".py",
   "mimetype": "text/x-python",
   "name": "python",
   "nbconvert_exporter": "python",
   "pygments_lexer": "ipython3",
   "version": "3.11.7"
  }
 },
 "nbformat": 4,
 "nbformat_minor": 5
}
